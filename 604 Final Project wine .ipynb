{
 "cells": [
  {
   "cell_type": "markdown",
   "id": "c2dc430f",
   "metadata": {},
   "source": [
    "## Final Project On Wine Quality Dataset "
   ]
  },
  {
   "cell_type": "code",
   "execution_count": null,
   "id": "267d4ff7",
   "metadata": {},
   "outputs": [],
   "source": [
    "pip install pandas"
   ]
  },
  {
   "cell_type": "code",
   "execution_count": 3,
   "id": "c16b562d",
   "metadata": {},
   "outputs": [],
   "source": [
    "import pandas as pd"
   ]
  },
  {
   "cell_type": "code",
   "execution_count": 10,
   "id": "c83b2839",
   "metadata": {},
   "outputs": [],
   "source": [
    "data = pd.read_csv(\"/Users/lozamengistu/Downloads/winequality-white.csv\")\n"
   ]
  },
  {
   "cell_type": "code",
   "execution_count": 11,
   "id": "b6209f4e",
   "metadata": {},
   "outputs": [],
   "source": [
    "import pandas as pd\n",
    "from sklearn.decomposition import PCA\n",
    "from sklearn.preprocessing import StandardScaler"
   ]
  },
  {
   "cell_type": "markdown",
   "id": "08e71fd6",
   "metadata": {},
   "source": [
    "Training using the Raw Data"
   ]
  },
  {
   "cell_type": "code",
   "execution_count": 16,
   "id": "89477180",
   "metadata": {},
   "outputs": [
    {
     "name": "stdout",
     "output_type": "stream",
     "text": [
      "Mean Squared Error: 0.34775581632653063\n"
     ]
    }
   ],
   "source": [
    "import pandas as pd\n",
    "from sklearn.model_selection import train_test_split\n",
    "from sklearn.ensemble import RandomForestRegressor\n",
    "from sklearn.metrics import mean_squared_error\n",
    "\n",
    "# Step 1: Download and preprocess the dataset\n",
    "url = 'http://archive.ics.uci.edu/ml/machine-learning-databases/wine-quality/winequality-white.csv'\n",
    "data = pd.read_csv(url, delimiter=';')\n",
    "\n",
    "# Step 2: Split the data into features (X) and target (y)\n",
    "X = data.drop('quality', axis=1)\n",
    "y = data['quality']\n",
    "\n",
    "# Step 3: Split the data into training and testing sets\n",
    "X_train, X_test, y_train, y_test = train_test_split(X, y, test_size=0.2, random_state=42)\n",
    "\n",
    "# Step 4: Train a Random Forest regressor\n",
    "model = RandomForestRegressor(random_state=42)\n",
    "model.fit(X_train, y_train)\n",
    "\n",
    "# Step 5: Make predictions on the test set\n",
    "y_pred = model.predict(X_test)\n",
    "\n",
    "# Step 6: Evaluate the model\n",
    "mse = mean_squared_error(y_test, y_pred)\n",
    "print(f\"Mean Squared Error: {mse}\")\n"
   ]
  },
  {
   "cell_type": "markdown",
   "id": "8d2e66fe",
   "metadata": {},
   "source": [
    "Training using PCA "
   ]
  },
  {
   "cell_type": "code",
   "execution_count": 17,
   "id": "a50bb257",
   "metadata": {},
   "outputs": [
    {
     "name": "stdout",
     "output_type": "stream",
     "text": [
      "Mean Squared Error: 0.5852212244897959\n"
     ]
    }
   ],
   "source": [
    "import pandas as pd\n",
    "from sklearn.model_selection import train_test_split\n",
    "from sklearn.decomposition import PCA\n",
    "from sklearn.ensemble import RandomForestRegressor\n",
    "from sklearn.metrics import mean_squared_error\n",
    "\n",
    "# Step 1: Download and preprocess the dataset\n",
    "url = 'http://archive.ics.uci.edu/ml/machine-learning-databases/wine-quality/winequality-white.csv'\n",
    "data = pd.read_csv(url, delimiter=';')\n",
    "\n",
    "# Step 2: Split the data into features (X) and target (y)\n",
    "X = data.drop('quality', axis=1)\n",
    "y = data['quality']\n",
    "\n",
    "# Step 3: Split the data into training and testing sets\n",
    "X_train, X_test, y_train, y_test = train_test_split(X, y, test_size=0.2, random_state=42)\n",
    "\n",
    "# Step 4: Perform PCA on the training data\n",
    "pca = PCA(n_components=2)\n",
    "X_train_pca = pca.fit_transform(X_train)\n",
    "\n",
    "# Step 5: Train a Random Forest regressor on the PCA-transformed data\n",
    "model = RandomForestRegressor(random_state=42)\n",
    "model.fit(X_train_pca, y_train)\n",
    "\n",
    "# Step 6: Transform the test data using PCA\n",
    "X_test_pca = pca.transform(X_test)\n",
    "\n",
    "# Step 7: Make predictions on the transformed test data\n",
    "y_pred = model.predict(X_test_pca)\n",
    "\n",
    "# Step 8: Evaluate the model\n",
    "mse = mean_squared_error(y_test, y_pred)\n",
    "print(f\"Mean Squared Error: {mse}\")\n"
   ]
  },
  {
   "cell_type": "code",
   "execution_count": 18,
   "id": "2ee0626a",
   "metadata": {},
   "outputs": [
    {
     "name": "stdout",
     "output_type": "stream",
     "text": [
      "Mean Squared Error: 0.6508529423082209\n"
     ]
    }
   ],
   "source": [
    "import pandas as pd\n",
    "from sklearn.model_selection import train_test_split\n",
    "from sklearn.decomposition import KernelPCA\n",
    "from sklearn.ensemble import RandomForestRegressor\n",
    "from sklearn.metrics import mean_squared_error\n",
    "\n",
    "# Step 1: Download and preprocess the dataset\n",
    "url = 'http://archive.ics.uci.edu/ml/machine-learning-databases/wine-quality/winequality-white.csv'\n",
    "data = pd.read_csv(url, delimiter=';')\n",
    "\n",
    "# Step 2: Split the data into features (X) and target (y)\n",
    "X = data.drop('quality', axis=1)\n",
    "y = data['quality']\n",
    "\n",
    "# Step 3: Split the data into training and testing sets\n",
    "X_train, X_test, y_train, y_test = train_test_split(X, y, test_size=0.2, random_state=42)\n",
    "\n",
    "# Step 4: Perform KPCA on the training data\n",
    "kpca = KernelPCA(n_components=2, kernel='rbf')\n",
    "X_train_kpca = kpca.fit_transform(X_train)\n",
    "\n",
    "# Step 5: Train a Random Forest regressor on the KPCA-transformed data\n",
    "model = RandomForestRegressor(random_state=42)\n",
    "model.fit(X_train_kpca, y_train)\n",
    "\n",
    "# Step 6: Transform the test data using KPCA\n",
    "X_test_kpca = kpca.transform(X_test)\n",
    "\n",
    "# Step 7: Make predictions on the transformed test data\n",
    "y_pred = model.predict(X_test_kpca)\n",
    "\n",
    "# Step 8: Evaluate the model\n",
    "mse = mean_squared_error(y_test, y_pred)\n",
    "print(f\"Mean Squared Error: {mse}\")\n"
   ]
  },
  {
   "cell_type": "code",
   "execution_count": 21,
   "id": "5d750840",
   "metadata": {},
   "outputs": [
    {
     "name": "stdout",
     "output_type": "stream",
     "text": [
      "Mean Squared Error: 0.8755918367346938\n"
     ]
    }
   ],
   "source": [
    "import pandas as pd\n",
    "from sklearn.model_selection import train_test_split\n",
    "from sklearn.manifold import TSNE\n",
    "from sklearn.ensemble import RandomForestRegressor\n",
    "from sklearn.metrics import mean_squared_error\n",
    "\n",
    "# Step 1: Download and preprocess the dataset\n",
    "url = 'http://archive.ics.uci.edu/ml/machine-learning-databases/wine-quality/winequality-white.csv'\n",
    "data = pd.read_csv(url, delimiter=';')\n",
    "\n",
    "# Step 2: Split the data into features (X) and target (y)\n",
    "X = data.drop('quality', axis=1)\n",
    "y = data['quality']\n",
    "\n",
    "# Step 3: Split the data into training and testing sets\n",
    "X_train, X_test, y_train, y_test = train_test_split(X, y, test_size=0.2, random_state=42)\n",
    "\n",
    "# Step 4: Perform t-SNE on the training data\n",
    "tsne = TSNE(n_components=2, random_state=42)\n",
    "X_train_tsne = tsne.fit_transform(X_train)\n",
    "\n",
    "# Step 5: Train a Random Forest regressor on the t-SNE-transformed data\n",
    "model = RandomForestRegressor(random_state=42)\n",
    "model.fit(X_train_tsne, y_train)\n",
    "\n",
    "# Step 6: Transform and predict on the test data using t-SNE\n",
    "X_test_tsne = tsne.fit_transform(X_test)\n",
    "y_pred = model.predict(X_test_tsne)\n",
    "\n",
    "# Step 7: Evaluate the model\n",
    "mse = mean_squared_error(y_test, y_pred)\n",
    "print(f\"Mean Squared Error: {mse}\")"
   ]
  },
  {
   "cell_type": "code",
   "execution_count": 23,
   "id": "a78cc0ca",
   "metadata": {},
   "outputs": [
    {
     "name": "stdout",
     "output_type": "stream",
     "text": [
      "Mean Squared Error: 0.6393877551020408\n"
     ]
    }
   ],
   "source": [
    "import pandas as pd\n",
    "from sklearn.model_selection import train_test_split\n",
    "from sklearn.neighbors import KNeighborsRegressor\n",
    "from sklearn.metrics import mean_squared_error\n",
    "\n",
    "# Step 1: Download and preprocess the dataset\n",
    "url = 'http://archive.ics.uci.edu/ml/machine-learning-databases/wine-quality/winequality-white.csv'\n",
    "data = pd.read_csv(url, delimiter=';')\n",
    "\n",
    "# Step 2: Split the data into features (X) and target (y)\n",
    "X = data.drop('quality', axis=1)\n",
    "y = data['quality']\n",
    "\n",
    "# Step 3: Split the data into training and testing sets\n",
    "X_train, X_test, y_train, y_test = train_test_split(X, y, test_size=0.2, random_state=42)\n",
    "\n",
    "# Step 4: Train a K-Nearest Neighbors regressor on the raw data\n",
    "model = KNeighborsRegressor()\n",
    "model.fit(X_train, y_train)\n",
    "\n",
    "# Step 5: Make predictions on the test data\n",
    "y_pred = model.predict(X_test)\n",
    "\n",
    "# Step 6: Evaluate the model\n",
    "mse = mean_squared_error(y_test, y_pred)\n",
    "print(f\"Mean Squared Error: {mse}\")\n"
   ]
  },
  {
   "cell_type": "code",
   "execution_count": 1,
   "id": "f31b09a7",
   "metadata": {},
   "outputs": [
    {
     "name": "stdout",
     "output_type": "stream",
     "text": [
      "Accuracy: 0.5489795918367347\n"
     ]
    }
   ],
   "source": [
    "import pandas as pd\n",
    "from sklearn.model_selection import train_test_split\n",
    "from sklearn.preprocessing import StandardScaler\n",
    "from sklearn.neighbors import KNeighborsClassifier\n",
    "from sklearn.metrics import accuracy_score\n",
    "\n",
    "# Step 1: Load the dataset\n",
    "url = 'http://archive.ics.uci.edu/ml/machine-learning-databases/wine-quality/winequality-white.csv'\n",
    "df = pd.read_csv(url, sep=';')\n",
    "\n",
    "# Step 2: Prepare the data\n",
    "X = df.drop('quality', axis=1)\n",
    "y = df['quality']\n",
    "\n",
    "# Step 3: Preprocess the data\n",
    "scaler = StandardScaler()\n",
    "X_scaled = scaler.fit_transform(X)\n",
    "\n",
    "# Step 4: Split the data\n",
    "X_train, X_test, y_train, y_test = train_test_split(X_scaled, y, test_size=0.2, random_state=42)\n",
    "\n",
    "# Step 5: Train the KNN model\n",
    "knn = KNeighborsClassifier()\n",
    "knn.fit(X_train, y_train)\n",
    "\n",
    "# Step 6: Evaluate the model\n",
    "y_pred = knn.predict(X_test)\n",
    "accuracy = accuracy_score(y_test, y_pred)\n",
    "\n",
    "print(\"Accuracy:\", accuracy)\n"
   ]
  },
  {
   "cell_type": "code",
   "execution_count": 2,
   "id": "5ef2dafe",
   "metadata": {},
   "outputs": [
    {
     "name": "stdout",
     "output_type": "stream",
     "text": [
      "Accuracy: 0.5489795918367347\n"
     ]
    }
   ],
   "source": [
    "import pandas as pd\n",
    "from sklearn.model_selection import train_test_split\n",
    "from sklearn.preprocessing import StandardScaler\n",
    "from sklearn.neighbors import KNeighborsClassifier\n",
    "from sklearn.metrics import accuracy_score\n",
    "\n",
    "# Step 1: Load the dataset\n",
    "url = 'http://archive.ics.uci.edu/ml/machine-learning-databases/wine-quality/winequality-white.csv'\n",
    "df = pd.read_csv(url, sep=';')\n",
    "\n",
    "# Step 2: Prepare the data\n",
    "X = df.drop('quality', axis=1)\n",
    "y = df['quality']\n",
    "\n",
    "# Step 3: Preprocess the data\n",
    "scaler = StandardScaler()\n",
    "X_scaled = scaler.fit_transform(X)\n",
    "\n",
    "# Step 4: Split the data\n",
    "X_train, X_test, y_train, y_test = train_test_split(X_scaled, y, test_size=0.2, random_state=42)\n",
    "\n",
    "# Step 5: Train the KNN model\n",
    "knn = KNeighborsClassifier()\n",
    "knn.fit(X_train, y_train)\n",
    "\n",
    "# Step 6: Evaluate the model\n",
    "y_pred = knn.predict(X_test)\n",
    "accuracy = accuracy_score(y_test, y_pred)\n",
    "\n",
    "print(\"Accuracy:\", accuracy)\n"
   ]
  },
  {
   "cell_type": "code",
   "execution_count": 3,
   "id": "53be3370",
   "metadata": {},
   "outputs": [],
   "source": [
    "import pandas as pd\n",
    "from sklearn.model_selection import train_test_split\n",
    "from sklearn.preprocessing import StandardScaler\n",
    "from sklearn.decomposition import PCA, KernelPCA\n",
    "from sklearn.neighbors import KNeighborsClassifier\n",
    "from sklearn.svm import SVC\n",
    "from sklearn.metrics import accuracy_score\n",
    "\n",
    "# Step 1: Load the dataset\n",
    "url = 'http://archive.ics.uci.edu/ml/machine-learning-databases/wine-quality/winequality-white.csv'\n",
    "df = pd.read_csv(url, sep=';')\n",
    "\n",
    "# Step 2: Prepare the data\n",
    "X = df.drop('quality', axis=1)\n",
    "y = df['quality']\n",
    "\n",
    "# Step 3: Preprocess the data\n",
    "scaler = StandardScaler()\n",
    "X_scaled = scaler.fit_transform(X)\n",
    "\n",
    "# Step 4: Split the data\n",
    "X_train, X_test, y_train, y_test = train_test_split(X_scaled, y, test_size=0.2, random_state=42)\n",
    "\n",
    "# Step 5: Train and evaluate KNN with raw data\n",
    "knn_raw = KNeighborsClassifier()\n",
    "knn_raw.fit(X_train, y_train)\n",
    "y_pred_raw = knn_raw.predict(X_test)\n",
    "accuracy_raw = accuracy_score(y_test, y_pred_raw)\n",
    "\n",
    "# Step 6: Train and evaluate KNN with PCA\n",
    "pca = PCA(n_components=6)  # Selecting 6 principal components\n",
    "X_pca = pca.fit_transform(X_scaled)\n",
    "X_train_pca, X_test_pca, y_train_pca, y_test_pca = train_test_split(X_pca, y, test_size=0.2, random_state=42)\n",
    "knn_pca = KNeighborsClassifier()\n",
    "knn_pca.fit(X_train_pca, y_train_pca)\n",
    "y_pred_pca = knn_pca.predict(X_test_pca)\n",
    "accuracy_pca = accuracy_score(y_test_pca, y_pred_pca)\n",
    "\n",
    "# Step 7: Train and evaluate KNN with KPCA\n",
    "kpca = KernelPCA(n_components=6, kernel='rbf')  # Selecting 6 kernel principal components\n",
    "X_kpca = kpca.fit_transform(X_scaled)\n",
    "X_train_kpca, X_test_kpca, y_train_kpca, y_test_kpca = train_test_split(X_kpca, y, test_size=0.2, random_state=42)\n",
    "knn_kpca = KNeighborsClassifier()\n",
    "knn_kpca.fit(X_train_kpca, y_train_kpca)\n",
    "y_pred_kpca = knn_kpca.predict(X_test_kpca)\n",
    "accuracy_kpca = accuracy_score(y_test_kpca, y_pred_kpca)\n",
    "\n",
    "# Step 8: Train and evaluate SVM with raw data using the RBF kernel\n",
    "svm_raw = SVC(kernel='rbf')\n",
    "svm_raw.fit(X_train, y_train)\n",
    "y_pred_svm_raw = svm_raw.predict(X_test)\n",
    "accuracy_svm_raw = accuracy_score(y_test, y_pred_svm_raw)\n",
    "\n",
    "# Step 9: Train and evaluate SVM with PCA\n",
    "svm_pca = SVC(kernel='rbf')\n",
    "svm_pca.fit(X_train_pca, y_train_pca)\n",
    "y_pred_svm_pca = svm_pca.predict(X_test_pca)\n",
    "accuracy_svm_pca = accuracy_score(y_test_pca, y_pred_svm_pca)\n",
    "\n",
    "# Step\n"
   ]
  },
  {
   "cell_type": "code",
   "execution_count": 4,
   "id": "50434b41",
   "metadata": {},
   "outputs": [
    {
     "ename": "SyntaxError",
     "evalue": "incomplete input (2640957966.py, line 77)",
     "output_type": "error",
     "traceback": [
      "\u001b[0;36m  Input \u001b[0;32mIn [4]\u001b[0;36m\u001b[0m\n\u001b[0;31m    print(\"SVM with PCA accuracy: {:.3f}\".format(accuracy_pca\u001b[0m\n\u001b[0m                                                             ^\u001b[0m\n\u001b[0;31mSyntaxError\u001b[0m\u001b[0;31m:\u001b[0m incomplete input\n"
     ]
    }
   ],
   "source": [
    "import pandas as pd\n",
    "from sklearn.model_selection import train_test_split\n",
    "from sklearn.preprocessing import StandardScaler\n",
    "from sklearn.decomposition import PCA, KernelPCA\n",
    "from sklearn.neighbors import KNeighborsClassifier\n",
    "from sklearn.svm import SVC\n",
    "from sklearn.metrics import accuracy_score\n",
    "\n",
    "\n",
    "# Load the dataset\n",
    "url = 'http://archive.ics.uci.edu/ml/machine-learning-databases/wine-quality/winequality-white.csv'\n",
    "df = pd.read_csv(url, sep=';')\n",
    "\n",
    "# Prepare the data\n",
    "X = df.drop('quality', axis=1)\n",
    "y = df['quality']\n",
    "\n",
    "# Split the data into training and testing sets\n",
    "X_train, X_test, y_train, y_test = train_test_split(X, y, test_size=0.2, random_state=42)\n",
    "\n",
    "# Scale the data\n",
    "scaler = StandardScaler()\n",
    "X_train_scaled = scaler.fit_transform(X_train)\n",
    "X_test_scaled = scaler.transform(X_test)\n",
    "\n",
    "# KNN with raw data\n",
    "knn_raw = KNeighborsClassifier()\n",
    "knn_raw.fit(X_train_scaled, y_train)\n",
    "y_pred_raw = knn_raw.predict(X_test_scaled)\n",
    "accuracy_raw = accuracy_score(y_test, y_pred_raw)\n",
    "\n",
    "# PCA\n",
    "pca = PCA(n_components=8)\n",
    "X_train_pca = pca.fit_transform(X_train_scaled)\n",
    "X_test_pca = pca.transform(X_test_scaled)\n",
    "\n",
    "# KNN with PCA\n",
    "knn_pca = KNeighborsClassifier()\n",
    "knn_pca.fit(X_train_pca, y_train)\n",
    "y_pred_pca = knn_pca.predict(X_test_pca)\n",
    "accuracy_pca = accuracy_score(y_test, y_pred_pca)\n",
    "\n",
    "# KPCA\n",
    "kpca = KernelPCA(n_components=8, kernel='rbf')\n",
    "X_train_kpca = kpca.fit_transform(X_train_scaled)\n",
    "X_test_kpca = kpca.transform(X_test_scaled)\n",
    "\n",
    "# KNN with KPCA\n",
    "knn_kpca = KNeighborsClassifier()\n",
    "knn_kpca.fit(X_train_kpca, y_train)\n",
    "y_pred_kpca = knn_kpca.predict(X_test_kpca)\n",
    "accuracy_kpca = accuracy_score(y_test, y_pred_kpca)\n",
    "\n",
    "# SVM with raw data\n",
    "svm_raw = SVC(kernel='rbf')\n",
    "svm_raw.fit(X_train_scaled, y_train)\n",
    "y_pred_raw_svm = svm_raw.predict(X_test_scaled)\n",
    "accuracy_raw_svm = accuracy_score(y_test, y_pred_raw_svm)\n",
    "\n",
    "# SVM with PCA\n",
    "svm_pca = SVC(kernel='rbf')\n",
    "svm_pca.fit(X_train_pca, y_train)\n",
    "y_pred_pca_svm = svm_pca.predict(X_test_pca)\n",
    "accuracy_pca_svm = accuracy_score(y_test, y_pred_pca_svm)\n",
    "\n",
    "# SVM with KPCA\n",
    "svm_kpca = SVC(kernel='rbf')\n",
    "svm_kpca.fit(X_train_kpca, y_train)\n",
    "y_pred_kpca_svm = svm_kpca.predict(X_test_kpca)\n",
    "accuracy_kpca_svm = accuracy_score(y_test, y_pred_kpca_svm)\n",
    "\n",
    "# Print the results\n",
    "print(\"KNN with raw data accuracy: {:.3f}\".format(accuracy_raw))\n",
    "print(\"KNN with PCA accuracy: {:.3f}\".format(accuracy_pca))\n",
    "print(\"KNN with KPCA accuracy: {:.3f}\".format(accuracy_kpca))\n",
    "print(\"SVM with raw data accuracy: {:.3f}\".format(accuracy_raw_svm))\n",
    "print(\"SVM with PCA accuracy: {:.3f}\".format(accuracy_pca\n"
   ]
  },
  {
   "cell_type": "code",
   "execution_count": 5,
   "id": "31d1d126",
   "metadata": {},
   "outputs": [
    {
     "name": "stdout",
     "output_type": "stream",
     "text": [
      "KNN with raw data accuracy: 0.549\n",
      "KNN with PCA accuracy: 0.531\n",
      "KNN with KPCA accuracy: 0.517\n"
     ]
    },
    {
     "ename": "NameError",
     "evalue": "name 'accuracy_raw_svm' is not defined",
     "output_type": "error",
     "traceback": [
      "\u001b[0;31m---------------------------------------------------------------------------\u001b[0m",
      "\u001b[0;31mNameError\u001b[0m                                 Traceback (most recent call last)",
      "Input \u001b[0;32mIn [5]\u001b[0m, in \u001b[0;36m<cell line: 5>\u001b[0;34m()\u001b[0m\n\u001b[1;32m      3\u001b[0m \u001b[38;5;28mprint\u001b[39m(\u001b[38;5;124m\"\u001b[39m\u001b[38;5;124mKNN with PCA accuracy: \u001b[39m\u001b[38;5;132;01m{:.3f}\u001b[39;00m\u001b[38;5;124m\"\u001b[39m\u001b[38;5;241m.\u001b[39mformat(accuracy_pca))\n\u001b[1;32m      4\u001b[0m \u001b[38;5;28mprint\u001b[39m(\u001b[38;5;124m\"\u001b[39m\u001b[38;5;124mKNN with KPCA accuracy: \u001b[39m\u001b[38;5;132;01m{:.3f}\u001b[39;00m\u001b[38;5;124m\"\u001b[39m\u001b[38;5;241m.\u001b[39mformat(accuracy_kpca))\n\u001b[0;32m----> 5\u001b[0m \u001b[38;5;28mprint\u001b[39m(\u001b[38;5;124m\"\u001b[39m\u001b[38;5;124mSVM with raw data accuracy: \u001b[39m\u001b[38;5;132;01m{:.3f}\u001b[39;00m\u001b[38;5;124m\"\u001b[39m\u001b[38;5;241m.\u001b[39mformat(\u001b[43maccuracy_raw_svm\u001b[49m))\n\u001b[1;32m      6\u001b[0m \u001b[38;5;28mprint\u001b[39m(\u001b[38;5;124m\"\u001b[39m\u001b[38;5;124mSVM with PCA accuracy: \u001b[39m\u001b[38;5;132;01m{:.3f}\u001b[39;00m\u001b[38;5;124m\"\u001b[39m\u001b[38;5;241m.\u001b[39mformat(accuracy_pca_svm))\n\u001b[1;32m      7\u001b[0m \u001b[38;5;28mprint\u001b[39m(\u001b[38;5;124m\"\u001b[39m\u001b[38;5;124mSVM with KPCA accuracy: \u001b[39m\u001b[38;5;132;01m{:.3f}\u001b[39;00m\u001b[38;5;124m\"\u001b[39m\u001b[38;5;241m.\u001b[39mformat(accuracy_kpca_svm))\n",
      "\u001b[0;31mNameError\u001b[0m: name 'accuracy_raw_svm' is not defined"
     ]
    }
   ],
   "source": [
    "# Print the results\n",
    "print(\"KNN with raw data accuracy: {:.3f}\".format(accuracy_raw))\n",
    "print(\"KNN with PCA accuracy: {:.3f}\".format(accuracy_pca))\n",
    "print(\"KNN with KPCA accuracy: {:.3f}\".format(accuracy_kpca))\n",
    "print(\"SVM with raw data accuracy: {:.3f}\".format(accuracy_raw_svm))\n",
    "print(\"SVM with PCA accuracy: {:.3f}\".format(accuracy_pca_svm))\n",
    "print(\"SVM with KPCA accuracy: {:.3f}\".format(accuracy_kpca_svm))\n"
   ]
  },
  {
   "cell_type": "code",
   "execution_count": 6,
   "id": "e557d71d",
   "metadata": {},
   "outputs": [
    {
     "ename": "NameError",
     "evalue": "name 'X_train_scaled' is not defined",
     "output_type": "error",
     "traceback": [
      "\u001b[0;31m---------------------------------------------------------------------------\u001b[0m",
      "\u001b[0;31mNameError\u001b[0m                                 Traceback (most recent call last)",
      "Input \u001b[0;32mIn [6]\u001b[0m, in \u001b[0;36m<cell line: 3>\u001b[0;34m()\u001b[0m\n\u001b[1;32m      1\u001b[0m \u001b[38;5;66;03m# SVM with raw data\u001b[39;00m\n\u001b[1;32m      2\u001b[0m svm_raw \u001b[38;5;241m=\u001b[39m SVC(kernel\u001b[38;5;241m=\u001b[39m\u001b[38;5;124m'\u001b[39m\u001b[38;5;124mrbf\u001b[39m\u001b[38;5;124m'\u001b[39m)\n\u001b[0;32m----> 3\u001b[0m svm_raw\u001b[38;5;241m.\u001b[39mfit(\u001b[43mX_train_scaled\u001b[49m, y_train)\n\u001b[1;32m      4\u001b[0m y_pred_raw_svm \u001b[38;5;241m=\u001b[39m svm_raw\u001b[38;5;241m.\u001b[39mpredict(X_test_scaled)\n\u001b[1;32m      5\u001b[0m accuracy_raw_svm \u001b[38;5;241m=\u001b[39m accuracy_score(y_test, y_pred_raw_svm)\n",
      "\u001b[0;31mNameError\u001b[0m: name 'X_train_scaled' is not defined"
     ]
    }
   ],
   "source": [
    "# SVM with raw data\n",
    "svm_raw = SVC(kernel='rbf')\n",
    "svm_raw.fit(X_train_scaled, y_train)\n",
    "y_pred_raw_svm = svm_raw.predict(X_test_scaled)\n",
    "accuracy_raw_svm = accuracy_score(y_test, y_pred_raw_svm)\n",
    "\n",
    "# SVM with PCA\n",
    "svm_pca = SVC(kernel='rbf')\n",
    "svm_pca.fit(X_train_pca, y_train)\n",
    "y_pred_pca_svm = svm_pca.predict(X_test_pca)\n",
    "accuracy_pca_svm = accuracy_score(y_test, y_pred_pca_svm)\n",
    "\n",
    "# SVM with KPCA\n",
    "svm_kpca = SVC(kernel='rbf')\n",
    "svm_kpca.fit(X_train_kpca, y_train)\n",
    "y_pred_kpca_svm = svm_kpca.predict(X_test_kpca)\n",
    "accuracy_kpca_svm = accuracy_score(y_test, y_pred_kpca_svm)\n",
    "\n",
    "# Print the results\n",
    "print(\"KNN with raw data accuracy: {:.3f}\".format(accuracy_raw))\n",
    "print(\"KNN with PCA accuracy: {:.3f}\".format(accuracy_pca))\n",
    "print(\"KNN with KPCA accuracy: {:.3f}\".format(accuracy_kpca))\n",
    "print(\"SVM with raw data accuracy: {:.3f}\".format(accuracy_raw_svm))\n",
    "print(\"SVM with PCA accuracy: {:.3f}\".format(accuracy_pca_svm))\n",
    "print(\"SVM with KPCA accuracy: {:.3f}\".format(accuracy_kpca_svm))\n"
   ]
  },
  {
   "cell_type": "code",
   "execution_count": 7,
   "id": "0956f260",
   "metadata": {},
   "outputs": [
    {
     "ename": "SyntaxError",
     "evalue": "unterminated string literal (detected at line 77) (3163841429.py, line 77)",
     "output_type": "error",
     "traceback": [
      "\u001b[0;36m  Input \u001b[0;32mIn [7]\u001b[0;36m\u001b[0m\n\u001b[0;31m    print(\"SVM with KPCA accuracy: {:.\u001b[0m\n\u001b[0m          ^\u001b[0m\n\u001b[0;31mSyntaxError\u001b[0m\u001b[0;31m:\u001b[0m unterminated string literal (detected at line 77)\n"
     ]
    }
   ],
   "source": [
    "import pandas as pd\n",
    "from sklearn.model_selection import train_test_split\n",
    "from sklearn.preprocessing import StandardScaler\n",
    "from sklearn.decomposition import PCA, KernelPCA\n",
    "from sklearn.neighbors import KNeighborsClassifier\n",
    "from sklearn.svm import SVC\n",
    "from sklearn.metrics import accuracy_score\n",
    "\n",
    "# Load the dataset\n",
    "url = 'http://archive.ics.uci.edu/ml/machine-learning-databases/wine-quality/winequality-white.csv'\n",
    "df = pd.read_csv(url, sep=';')\n",
    "\n",
    "# Prepare the data\n",
    "X = df.drop('quality', axis=1)\n",
    "y = df['quality']\n",
    "\n",
    "# Split the data into training and testing sets\n",
    "X_train, X_test, y_train, y_test = train_test_split(X, y, test_size=0.2, random_state=42)\n",
    "\n",
    "# Scale the data\n",
    "scaler = StandardScaler()\n",
    "X_train_scaled = scaler.fit_transform(X_train)\n",
    "X_test_scaled = scaler.transform(X_test)\n",
    "\n",
    "# KNN with raw data\n",
    "knn_raw = KNeighborsClassifier()\n",
    "knn_raw.fit(X_train_scaled, y_train)\n",
    "y_pred_raw = knn_raw.predict(X_test_scaled)\n",
    "accuracy_raw = accuracy_score(y_test, y_pred_raw)\n",
    "\n",
    "# PCA\n",
    "pca = PCA(n_components=8)\n",
    "X_train_pca = pca.fit_transform(X_train_scaled)\n",
    "X_test_pca = pca.transform(X_test_scaled)\n",
    "\n",
    "# KNN with PCA\n",
    "knn_pca = KNeighborsClassifier()\n",
    "knn_pca.fit(X_train_pca, y_train)\n",
    "y_pred_pca = knn_pca.predict(X_test_pca)\n",
    "accuracy_pca = accuracy_score(y_test, y_pred_pca)\n",
    "\n",
    "# KPCA\n",
    "kpca = KernelPCA(n_components=8, kernel='rbf')\n",
    "X_train_kpca = kpca.fit_transform(X_train_scaled)\n",
    "X_test_kpca = kpca.transform(X_test_scaled)\n",
    "\n",
    "# KNN with KPCA\n",
    "knn_kpca = KNeighborsClassifier()\n",
    "knn_kpca.fit(X_train_kpca, y_train)\n",
    "y_pred_kpca = knn_kpca.predict(X_test_kpca)\n",
    "accuracy_kpca = accuracy_score(y_test, y_pred_kpca)\n",
    "\n",
    "# SVM with raw data\n",
    "svm_raw = SVC(kernel='rbf')\n",
    "svm_raw.fit(X_train_scaled, y_train)\n",
    "y_pred_raw_svm = svm_raw.predict(X_test_scaled)\n",
    "accuracy_raw_svm = accuracy_score(y_test, y_pred_raw_svm)\n",
    "\n",
    "# SVM with PCA\n",
    "svm_pca = SVC(kernel='rbf')\n",
    "svm_pca.fit(X_train_pca, y_train)\n",
    "y_pred_pca_svm = svm_pca.predict(X_test_pca)\n",
    "accuracy_pca_svm = accuracy_score(y_test, y_pred_pca_svm)\n",
    "\n",
    "# SVM with KPCA\n",
    "svm_kpca = SVC(kernel='rbf')\n",
    "svm_kpca.fit(X_train_kpca, y_train)\n",
    "y_pred_kpca_svm = svm_kpca.predict(X_test_kpca)\n",
    "accuracy_kpca_svm = accuracy_score(y_test, y_pred_kpca_svm)\n",
    "\n",
    "# Print the results\n",
    "print(\"KNN with raw data accuracy: {:.3f}\".format(accuracy_raw))\n",
    "print(\"KNN with PCA accuracy: {:.3f}\".format(accuracy_pca))\n",
    "print(\"KNN with KPCA accuracy: {:.3f}\".format(accuracy_kpca))\n",
    "print(\"SVM with raw data accuracy: {:.3f}\".format(accuracy_raw_svm))\n",
    "print(\"SVM with PCA accuracy: {:.3f}\".format(accuracy_pca_svm))\n",
    "print(\"SVM with KPCA accuracy: {:.\n"
   ]
  },
  {
   "cell_type": "code",
   "execution_count": null,
   "id": "2d3c0dd3",
   "metadata": {},
   "outputs": [],
   "source": []
  }
 ],
 "metadata": {
  "kernelspec": {
   "display_name": "Python 3 (ipykernel)",
   "language": "python",
   "name": "python3"
  },
  "language_info": {
   "codemirror_mode": {
    "name": "ipython",
    "version": 3
   },
   "file_extension": ".py",
   "mimetype": "text/x-python",
   "name": "python",
   "nbconvert_exporter": "python",
   "pygments_lexer": "ipython3",
   "version": "3.10.5"
  }
 },
 "nbformat": 4,
 "nbformat_minor": 5
}
